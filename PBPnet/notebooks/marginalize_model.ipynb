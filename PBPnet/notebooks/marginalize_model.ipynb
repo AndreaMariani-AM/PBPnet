{
 "cells": [
  {
   "cell_type": "code",
   "execution_count": 1,
   "metadata": {},
   "outputs": [],
   "source": [
    "import torch\n",
    "import numpy as np\n",
    "import pandas as pd\n",
    "import matplotlib.pyplot as plt\n",
    "import utility_loader\n",
    "from custom_bpnet import customBPNet\n",
    "from custom_bpnet import CountWrapper, ControlWrapper, ProfileWrapper\n",
    "from plotnine import *\n",
    "import plotnine\n",
    "import tqdm\n",
    "from tangermeme.utils import random_one_hot\n",
    "from tangermeme.io import read_meme\n",
    "from tangermeme.marginalize import marginalize\n",
    "from tangermeme.utils import pwm_consensus\n",
    "from tangermeme.deep_lift_shap import deep_lift_shap\n",
    "from tangermeme.predict import predict\n",
    "import modiscolite\n",
    "\n",
    "# Set outdir\n",
    "outdir = '/data/mariani/specificity_bpnet/output/models_hyperparams/calibrated_model/figs/marginalization'"
   ]
  },
  {
   "cell_type": "markdown",
   "metadata": {},
   "source": [
    "# Marginalization of known motifs"
   ]
  },
  {
   "cell_type": "code",
   "execution_count": 7,
   "metadata": {},
   "outputs": [],
   "source": [
    "# # Load model\n",
    "# dict_data = {\n",
    "# \t\"n_outputs\":22,\n",
    "# \t\"n_control_tracks\":2,\n",
    "# \t\"trimming\":(2114-1000)//2, # difference between the input length and the output length, actually half of that.\n",
    "# \t\"alpha\": 0.5, #0.5\n",
    "# \t\"n_filters\": 64,\n",
    "# \t\"n_layers\":8,\n",
    "# \t\"name\": \"calibrated_model\"\n",
    "# }\n",
    "\n",
    "# # Loaded model\n",
    "# loaded_model = customBPNet(**dict_data).cuda()\n",
    "# loaded_model.load_state_dict(torch.load('/data/mariani/specificity_bpnet/output/models_hyperparams/calibrated_model/calibrated_model.torch', weights_only = True))\n",
    "\n",
    "# #bpnet_calibrated = CountWrapper(ControlWrapper(loaded_model))\n",
    "# bpnet_calibrated =  ProfileWrapper(ControlWrapper(loaded_model))\n",
    "\n",
    "# Load model\n",
    "dict_data = {\n",
    "\t\"n_outputs\":2,\n",
    "\t\"n_control_tracks\":2,\n",
    "\t\"trimming\":(6114-5000)//2, # difference between the input length and the output length, actually half of that.\n",
    "\t\"alpha\": 300, #0.5\n",
    "\t\"n_filters\": 128,\n",
    "\t\"n_layers\":13,\n",
    "\t\"name\": \"calibrated_wider_model\"\n",
    "}\n",
    "\n",
    "# Loaded model\n",
    "loaded_model = customBPNet(**dict_data).cuda()\n",
    "loaded_model = torch.load('/data/mariani/specificity_bpnet/single_models/PCGF1_model.torch', weights_only = False)\n",
    "\n",
    "bpnet_calibrated = CountWrapper(ControlWrapper(loaded_model), 0)\n",
    "#bpnet_calibrated =  ProfileWrapper(ControlWrapper(loaded_model))"
   ]
  },
  {
   "cell_type": "code",
   "execution_count": 20,
   "metadata": {},
   "outputs": [],
   "source": [
    "# Let's start by generating a set of background sequences with probabilities of chr1. \n",
    "# Later on sustitute this approach with:\n",
    "#\t- Dinucleotide shuffle RING1B regions\n",
    "#\t- Active promoters??\n",
    "\n",
    "X = random_one_hot((200, 4, 6114), probs=np.array([[0.2910, 0.2085, 0.2087, 0.2918]])).float()\n",
    "\n",
    "# read meme file, check some random motifs and other kwown\n",
    "motifs = read_meme('/data/mariani/specificity_bpnet/bpnet_data/meme_db/motif_databases/JASPAR/JASPAR2022_CORE_vertebrates_non-redundant_v2.meme')\n",
    "# motifs['MA0059.1 MAX::MYC'] = read_meme('/data/mariani/specificity_bpnet/bpnet_data/meme_db/motif_databases/JASPAR/JASPAR2022_CORE_vertebrates_non-redundant_v2.meme')['MA0059.1 MAX::MYC']\n",
    "# motifs['MA0471.2 E2F6'] = read_meme('/data/mariani/specificity_bpnet/bpnet_data/meme_db/motif_databases/JASPAR/JASPAR2022_CORE_vertebrates_non-redundant_v2.meme')['MA0471.2 E2F6']\n",
    "# motifs['MA0093.3 USF1'] = read_meme('/data/mariani/specificity_bpnet/bpnet_data/meme_db/motif_databases/JASPAR/JASPAR2022_CORE_vertebrates_non-redundant_v2.meme')['MA0093.3 USF1']\n",
    "# motifs['MA1122.1 TFDP1'] = read_meme('/data/mariani/specificity_bpnet/bpnet_data/meme_db/motif_databases/JASPAR/JASPAR2022_CORE_vertebrates_non-redundant_v2.meme')['MA1122.1 TFDP1']\n",
    "# motifs['MA0741.1 KLF16'] = read_meme('/data/mariani/specificity_bpnet/bpnet_data/meme_db/motif_databases/JASPAR/JASPAR2022_CORE_vertebrates_non-redundant_v2.meme')['MA0741.1 KLF16']"
   ]
  },
  {
   "cell_type": "code",
   "execution_count": 21,
   "metadata": {},
   "outputs": [
    {
     "data": {
      "text/html": [
       "<div>\n",
       "<style scoped>\n",
       "    .dataframe tbody tr th:only-of-type {\n",
       "        vertical-align: middle;\n",
       "    }\n",
       "\n",
       "    .dataframe tbody tr th {\n",
       "        vertical-align: top;\n",
       "    }\n",
       "\n",
       "    .dataframe thead th {\n",
       "        text-align: right;\n",
       "    }\n",
       "</style>\n",
       "<table border=\"1\" class=\"dataframe\">\n",
       "  <thead>\n",
       "    <tr style=\"text-align: right;\">\n",
       "      <th></th>\n",
       "      <th>motif</th>\n",
       "      <th>delta</th>\n",
       "    </tr>\n",
       "  </thead>\n",
       "  <tbody>\n",
       "  </tbody>\n",
       "</table>\n",
       "</div>"
      ],
      "text/plain": [
       "Empty DataFrame\n",
       "Columns: [motif, delta]\n",
       "Index: []"
      ]
     },
     "execution_count": 21,
     "metadata": {},
     "output_type": "execute_result"
    }
   ],
   "source": [
    "# motifs_name, delt = [], []\n",
    "# for name, pwm in motifs.items():\n",
    "#     consensus = pwm_consensus(pwm).unsqueeze(0)\n",
    "#     y_before, y_after = marginalize(bpnet_calibrated, X, consensus)\n",
    "#     delta = (y_after - y_before).mean().item()\n",
    "#     if delta >= 0.009:\n",
    "#         motifs_name.append(name)\n",
    "#         delt.append(delta)\n",
    "\n",
    "# def_motifs_delta = pd.DataFrame({\n",
    "# \t'motif': motifs_name,\n",
    "# \t'delta': delt\n",
    "# })\n",
    "\n",
    "motifs_name, delt = [], []\n",
    "for name, pwm in motifs.items():\n",
    "    consensus = pwm_consensus(pwm).unsqueeze(0)\n",
    "    y_before, y_after = marginalize(bpnet_calibrated, X, consensus)\n",
    "    #print(y_before.shape, y_after.shape)\n",
    "    delta = (y_after - y_before).mean().item()\n",
    "    motifs_name.append(name)\n",
    "    delt.append(delta)\n",
    "\n",
    "def_motifs_delta = pd.DataFrame({\n",
    "\t'motif': motifs_name,\n",
    "\t'delta': delt\n",
    "})\n"
   ]
  },
  {
   "cell_type": "code",
   "execution_count": 1,
   "metadata": {},
   "outputs": [
    {
     "ename": "NameError",
     "evalue": "name 'def_motifs_delta' is not defined",
     "output_type": "error",
     "traceback": [
      "\u001b[31m---------------------------------------------------------------------------\u001b[39m",
      "\u001b[31mNameError\u001b[39m                                 Traceback (most recent call last)",
      "\u001b[36mCell\u001b[39m\u001b[36m \u001b[39m\u001b[32mIn[1]\u001b[39m\u001b[32m, line 1\u001b[39m\n\u001b[32m----> \u001b[39m\u001b[32m1\u001b[39m \u001b[43mdef_motifs_delta\u001b[49m[def_motifs_delta.delta >= \u001b[32m0.01\u001b[39m]\n",
      "\u001b[31mNameError\u001b[39m: name 'def_motifs_delta' is not defined"
     ]
    }
   ],
   "source": [
    "def_motifs_delta[def_motifs_delta.delta >= 0.01]"
   ]
  },
  {
   "cell_type": "code",
   "execution_count": 19,
   "metadata": {},
   "outputs": [
    {
     "name": "stdout",
     "output_type": "stream",
     "text": [
      "MA0004.1 Arnt 9.94539641396841e-06\n",
      "MA0006.1 Ahr::Arnt 1.08449703475344e-05\n",
      "MA0019.1 Ddit3::Cebpa -5.345597401174018e-06\n",
      "MA0029.1 Mecom -3.229926005587913e-05\n",
      "MA0059.1 MAX::MYC 2.37389357948814e-07\n",
      "MA0471.2 E2F6 3.935094355256297e-05\n",
      "MA0093.3 USF1 -2.0988405594835058e-05\n",
      "MA1122.1 TFDP1 2.9910863304394297e-05\n",
      "MA0741.1 KLF16 3.787975219893269e-05\n"
     ]
    }
   ],
   "source": [
    "for name, pwm in motifs.items():\n",
    "\tconsensus = pwm_consensus(pwm).unsqueeze(0)\n",
    "\n",
    "\tn = 10 \n",
    "\ts, e = 6114 // 2 - n , 6114 // 2 + n\n",
    "\ty_before, y_after = marginalize(bpnet_calibrated, X, consensus, func=deep_lift_shap)\n",
    "\ty_before = y_before[:, :, s:e] * X[:, :, s:e]\n",
    "\ty_after = y_after[:, :, s:e] * X[:, :, s:e]\n",
    "\n",
    "\tdelta = (y_after - y_before).mean().item()\n",
    "\tprint(name, delta)\n"
   ]
  },
  {
   "cell_type": "code",
   "execution_count": 14,
   "metadata": {},
   "outputs": [
    {
     "data": {
      "text/plain": [
       "1057"
      ]
     },
     "execution_count": 14,
     "metadata": {},
     "output_type": "execute_result"
    }
   ],
   "source": []
  }
 ],
 "metadata": {
  "kernelspec": {
   "display_name": "bpnet_lite",
   "language": "python",
   "name": "bpnet_lite"
  },
  "language_info": {
   "codemirror_mode": {
    "name": "ipython",
    "version": 3
   },
   "file_extension": ".py",
   "mimetype": "text/x-python",
   "name": "python",
   "nbconvert_exporter": "python",
   "pygments_lexer": "ipython3",
   "version": "3.11.9"
  }
 },
 "nbformat": 4,
 "nbformat_minor": 2
}
